{
 "cells": [
  {
   "cell_type": "code",
   "execution_count": null,
   "metadata": {},
   "outputs": [],
   "source": [
    "genome_regions = {}\n",
    "entities = ['gene', 'exon', 'CDS']\n",
    "#path = '../results/regions.tsv'\n",
    "path = '../results/regions_chr21.tsv' # for testing\n",
    "\n",
    "# genomic regions obtention\n",
    "with open(path, 'r') as file:\n",
    "    for line in file:\n",
    "        chr, entity, start, stop = line.strip().split('\\t')\n",
    "\n",
    "        if chr not in genome_regions.keys():\n",
    "            genome_regions[chr] = {entity_type: list() for entity_type in entities}\n",
    "        genome_regions[chr][entity].append((int(start), int(stop)))\n",
    "\n",
    "# regions preparation\n",
    "for chr in genome_regions.keys():\n",
    "    for entity in entities:\n",
    "\n",
    "        # sort regions deleting duplicates\n",
    "        genome_regions[chr][entity] = sorted(list(set(genome_regions[chr][entity])))\n",
    "        \n",
    "        # delete redundancies\n",
    "        my_ranges = genome_regions[chr][entity]\n",
    "        non_redundant_ranges = [my_ranges[0]]\n",
    "\n",
    "        for i in range(len(my_ranges)-1):\n",
    "\n",
    "            if my_ranges[i][0] - non_redundant_ranges[-1][1] > 0:\n",
    "                non_redundant_ranges.append(my_ranges[i])\n",
    "            else:\n",
    "                new_range = (non_redundant_ranges[-1][0], my_ranges[i][1])\n",
    "                non_redundant_ranges.pop()\n",
    "                non_redundant_ranges.append(new_range)\n",
    "            \n",
    "        genome_regions[chr][entity] = [range(start, stop) for start, stop in non_redundant_ranges]"
   ]
  },
  {
   "cell_type": "code",
   "execution_count": null,
   "metadata": {},
   "outputs": [],
   "source": [
    "for chr in genome_regions.keys():\n",
    "    for entity in entities: \n",
    "        print(chr, entity, genome_regions[chr][entity])"
   ]
  },
  {
   "cell_type": "code",
   "execution_count": null,
   "metadata": {},
   "outputs": [],
   "source": [
    "def is_in_ranges(x: int, rangesList: list) -> bool:\n",
    "    for my_range in rangesList:\n",
    "        if x in my_range: return True\n",
    "    return False\n",
    "\n",
    "    \n",
    "def who_are_you(chr: str, pos: int) -> str:\n",
    "    if is_in_ranges(pos, genome_regions[chr]['gene']):\n",
    "        if is_in_ranges(pos, genome_regions[chr]['exon']):\n",
    "            if is_in_ranges(pos, genome_regions[chr]['CDS']):\n",
    "                return 'CDS'\n",
    "            else: return 'exonic'\n",
    "        else: return 'genic'\n",
    "    else: return 'intergenic'"
   ]
  },
  {
   "cell_type": "code",
   "execution_count": null,
   "metadata": {},
   "outputs": [],
   "source": [
    "geninc = 5012000\n",
    "intergenic = 5020000\n",
    "exonic = 5011850\n",
    "intronic = 5012000\n",
    "CDS = 10538729\n",
    "not_CDS = 10538735\n",
    "\n",
    "elements = [geninc, intergenic, exonic, intronic, CDS, not_CDS]\n",
    "elements = [('chr21', element) for element in elements]\n",
    "\n",
    "for element in elements:\n",
    "    chr = element[0]\n",
    "    pos = element[1]\n",
    "    print(who_are_you(chr, pos))"
   ]
  },
  {
   "cell_type": "code",
   "execution_count": null,
   "metadata": {},
   "outputs": [],
   "source": [
    "#extract positions from clinvar by chromosome\n",
    "\n",
    "path = \"results/clinvar_clean.tsv\"\n",
    "\n",
    "clinvar_positions = {}\n",
    "with open(path, \"r\") as file:\n",
    "    for line in file:\n",
    "        chromosome, position, *_ = line.strip().split(\"\\t\")\n",
    "        \n",
    "        if chromosome not in clinvar_positions.keys():\n",
    "            clinvar_positions[chromosome] = [int(position)]\n",
    "        else: clinvar_positions[chromosome].append(int(position))\n"
   ]
  }
 ],
 "metadata": {
  "language_info": {
   "name": "python"
  }
 },
 "nbformat": 4,
 "nbformat_minor": 2
}
